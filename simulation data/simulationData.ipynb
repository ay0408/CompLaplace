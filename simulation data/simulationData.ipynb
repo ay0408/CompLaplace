{
 "cells": [
  {
   "cell_type": "code",
   "execution_count": 1,
   "metadata": {},
   "outputs": [],
   "source": [
    "import numpy as np\n",
    "import math\n",
    "from scipy import integrate\n",
    "import matplotlib.pyplot as plt\n",
    "import random"
   ]
  },
  {
   "cell_type": "code",
   "execution_count": 2,
   "metadata": {},
   "outputs": [
    {
     "name": "stdout",
     "output_type": "stream",
     "text": [
      "494\n",
      "493\n",
      "497\n",
      "492\n",
      "491\n",
      "499\n",
      "490\n",
      "496\n",
      "498\n",
      "495\n"
     ]
    },
    {
     "data": {
      "image/png": "[encoded data removed]",
      "text/plain": [
       "<Figure size 432x288 with 1 Axes>"
      ]
     },
     "metadata": {
      "needs_background": "light"
     },
     "output_type": "display_data"
    }
   ],
   "source": [
    "N = 100\n",
    "M = 500\n",
    "a = np.zeros(M)\n",
    "b = np.zeros(M)\n",
    "m = np.zeros(M)\n",
    "n = np.zeros(M)\n",
    "\n",
    "for i in range(M-10):\n",
    "    m[i] = np.random.binomial(N, 1/3)\n",
    "    n[i] = np.random.binomial(N-m[i], 1/2)\n",
    "    a[i] = np.random.binomial(m[i], 1/2)\n",
    "    b[i] = np.random.binomial(n[i], 1/2)\n",
    "\n",
    "for i in range(M-10,M):\n",
    "    m[i] = np.random.binomial(N, 1/3)\n",
    "    n[i] = np.random.binomial(N-m[i], 1/2)\n",
    "    a[i] = np.random.binomial(m[i], 3/4)\n",
    "    b[i] = np.random.binomial(n[i], 3/4)\n",
    "\n",
    "stats = np.zeros(M)\n",
    "order = np.zeros(M)\n",
    "\n",
    "for i in range(M):\n",
    "    order[i] = i\n",
    "    if m[i] == 0:\n",
    "        f = 0\n",
    "    else:\n",
    "        f = (2*a[i]-m[i])**2/m[i]\n",
    "    if n[i] == 0:\n",
    "        s = 0\n",
    "    else:\n",
    "        s = (2*b[i]-n[i])**2/n[i]\n",
    "    if m[i] + n[i] == N:\n",
    "        t = 0\n",
    "    else:\n",
    "        t = (2*a[i]+2*b[i]-m[i]-n[i])**2/(N-m[i]-n[i])\n",
    "    \n",
    "    stats[i] = f + s + t\n",
    "\n",
    "x = np.argsort(stats)\n",
    "for i in range(10):\n",
    "    print(x[M-1-i])\n",
    "\n",
    "sorted_stats = sorted(stats, reverse=True)\n",
    "#print(sorted_stats)\n",
    "\n",
    "fig = plt.figure()\n",
    "plt.ylim(-1, max(stats)+2)\n",
    "plt.xlim(-2, 102)\n",
    "plt.plot(order, sorted_stats, marker=\"o\", markersize=2, color = \"red\", linestyle = \"None\")\n",
    "#plt.axhline(23.0, color = \"black\", linestyle = \"-.\")\n",
    "plt.xlabel(\"rank\", fontsize = 18)\n",
    "plt.ylabel(\"chi^2\", fontsize = 18)\n",
    "fig.savefig(\"stats_small.png\")\n",
    "fig.savefig(\"fig/stats-small.eps\")"
   ]
  },
  {
   "cell_type": "code",
   "execution_count": 3,
   "metadata": {},
   "outputs": [
    {
     "name": "stdout",
     "output_type": "stream",
     "text": [
      "4996\n",
      "4997\n",
      "4994\n",
      "4993\n",
      "4995\n",
      "4991\n",
      "4998\n",
      "4999\n",
      "4990\n",
      "4992\n"
     ]
    },
    {
     "data": {
      "image/png": "[encoded data removed]",
      "text/plain": [
       "<Figure size 432x288 with 1 Axes>"
      ]
     },
     "metadata": {
      "needs_background": "light"
     },
     "output_type": "display_data"
    }
   ],
   "source": [
    "N = 500\n",
    "M = 5000\n",
    "a = np.zeros(M)\n",
    "b = np.zeros(M)\n",
    "m = np.zeros(M)\n",
    "n = np.zeros(M)\n",
    "\n",
    "for i in range(M-10):\n",
    "    m[i] = np.random.binomial(N, 1/3)\n",
    "    n[i] = np.random.binomial(N-m[i], 1/2)\n",
    "    a[i] = np.random.binomial(m[i], 1/2)\n",
    "    b[i] = np.random.binomial(n[i], 1/2)\n",
    "\n",
    "for i in range(M-10,M):\n",
    "    m[i] = np.random.binomial(N, 1/3)\n",
    "    n[i] = np.random.binomial(N-m[i], 1/2)\n",
    "    a[i] = np.random.binomial(m[i], 2/3)\n",
    "    b[i] = np.random.binomial(n[i], 2/3)\n",
    "\n",
    "stats = np.zeros(M)\n",
    "order = np.zeros(M)\n",
    "\n",
    "for i in range(M):\n",
    "    order[i] = i\n",
    "    if m[i] == 0:\n",
    "        f = 0\n",
    "    else:\n",
    "        f = (2*a[i]-m[i])**2/m[i]\n",
    "    if n[i] == 0:\n",
    "        s = 0\n",
    "    else:\n",
    "        s = (2*b[i]-n[i])**2/n[i]\n",
    "    if m[i] + n[i] == N:\n",
    "        t = 0\n",
    "    else:\n",
    "        t = (2*a[i]+2*b[i]-m[i]-n[i])**2/(N-m[i]-n[i])\n",
    "    \n",
    "    stats[i] = f + s + t\n",
    "\n",
    "x = np.argsort(stats)\n",
    "for i in range(10):\n",
    "    print(x[M-1-i])\n",
    "\n",
    "sorted_stats = sorted(stats, reverse=True)\n",
    "#print(sorted_stats)\n",
    "\n",
    "fig = plt.figure()\n",
    "plt.ylim(-1, max(stats)+2)\n",
    "plt.xlim(-2, 102)\n",
    "plt.plot(order, sorted_stats, marker=\"o\", markersize=2, color = \"red\", linestyle = \"None\")\n",
    "#plt.axhline(33.6, color = \"black\", linestyle = \"-.\")\n",
    "plt.xlabel(\"rank\", fontsize = 18)\n",
    "plt.ylabel(\"chi^2\", fontsize = 18)\n",
    "fig.savefig(\"stats_large.png\")\n",
    "fig.savefig(\"fig/stats-large.eps\")"
   ]
  },
  {
   "cell_type": "code",
   "execution_count": null,
   "metadata": {},
   "outputs": [],
   "source": []
  }
 ],
 "metadata": {
  "kernelspec": {
   "display_name": "Python 3",
   "language": "python",
   "name": "python3"
  },
  "language_info": {
   "codemirror_mode": {
    "name": "ipython",
    "version": 3
   },
   "file_extension": ".py",
   "mimetype": "text/x-python",
   "name": "python",
   "nbconvert_exporter": "python",
   "pygments_lexer": "ipython3",
   "version": "3.8.3"
  }
 },
 "nbformat": 4,
 "nbformat_minor": 4
}
